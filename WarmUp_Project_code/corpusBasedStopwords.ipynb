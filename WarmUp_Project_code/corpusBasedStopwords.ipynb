{
  "cells": [
    {
      "cell_type": "code",
      "execution_count": null,
      "metadata": {
        "id": "czcMGPNdERQK"
      },
      "outputs": [
        {
          "name": "stderr",
          "output_type": "stream",
          "text": [
            "[nltk_data] Downloading package stopwords to\n",
            "[nltk_data]     C:\\Users\\HP\\AppData\\Roaming\\nltk_data...\n",
            "[nltk_data]   Package stopwords is already up-to-date!\n",
            "[nltk_data] Downloading package punkt to\n",
            "[nltk_data]     C:\\Users\\HP\\AppData\\Roaming\\nltk_data...\n",
            "[nltk_data]   Package punkt is already up-to-date!\n",
            "[nltk_data] Downloading package stopwords to\n",
            "[nltk_data]     C:\\Users\\HP\\AppData\\Roaming\\nltk_data...\n",
            "[nltk_data]   Package stopwords is already up-to-date!\n"
          ]
        },
        {
          "data": {
            "text/plain": [
              "True"
            ]
          },
          "execution_count": 1,
          "metadata": {},
          "output_type": "execute_result"
        }
      ],
      "source": [
        "#imports\n",
        "import json\n",
        "import numpy as np\n",
        "import matplotlib.pyplot as plt\n",
        "from sklearn.feature_extraction.text import TfidfVectorizer\n",
        "from stopwordRemoval import StopwordRemoval\n",
        "from sentenceSegmentation import SentenceSegmentation\n",
        "from tokenization import Tokenization\n",
        "from nltk.corpus import stopwords\n",
        "from util import *\n",
        "nltk.download(\"stopwords\")"
      ]
    },
    {
      "cell_type": "code",
      "execution_count": 2,
      "metadata": {},
      "outputs": [],
      "source": [
        "tokenizer = Tokenization()\n",
        "sentenceSegmenter = SentenceSegmentation()\n",
        "stopwordRemover = StopwordRemoval()"
      ]
    },
    {
      "cell_type": "code",
      "execution_count": null,
      "metadata": {
        "colab": {
          "base_uri": "https://localhost:8080/"
        },
        "id": "yWwcTabjEVWa",
        "outputId": "a9dde04a-b9b4-4751-a2a1-d12253566e1a"
      },
      "outputs": [
        {
          "name": "stdout",
          "output_type": "stream",
          "text": [
            "Total No. of documents in this list are 1400\n"
          ]
        }
      ],
      "source": [
        "# Loading all the documents in the cranfield dataset in the list\n",
        "with open(r\"..\\cranfield\\cran_docs.json\", \"r\", encoding=\"utf-8\") as file:\n",
        "    data = json.load(file)\n",
        "# documents is the list of all the documents in the cranfield dataset\n",
        "documents = [item[\"body\"] for item in data]\n",
        "print(\"Total No. of documents in this list are\",len(documents))"
      ]
    },
    {
      "cell_type": "code",
      "execution_count": null,
      "metadata": {
        "id": "XgQwLaCHLA98"
      },
      "outputs": [],
      "source": [
        "def idf_stopwords(documents, percentile=5):\n",
        "   \"\"\"\n",
        "   Creating the list of stopwords from cranfield corpus of documents\n",
        "   using the percentile method.\n",
        "   Observed that most words have the idf_score of 7\n",
        "   Making them rarer words and having too low threshold for percentile\n",
        "   ----------\n",
        "   Arg1: Documents List\n",
        "   Arg2: Threshold percentile\n",
        "   Returns: Stopwords list\n",
        "    \"\"\"\n",
        "   vectorizer = TfidfVectorizer(smooth_idf=True)\n",
        "   matrix = vectorizer.fit_transform(documents)\n",
        "   features = vectorizer.get_feature_names_out() # Vocabulary words\n",
        "   idf_scores = vectorizer.idf_                  # IDF scores\n",
        "\n",
        "  # Computing the 5th percentile threshold\n",
        "   threshold = np.percentile(idf_scores, percentile)\n",
        "\n",
        "  # Selecting stopwords with IDF in the 0 to 5 percentile range\n",
        "   stopwords = [word for word, idf in zip(features, idf_scores) if idf < threshold]\n",
        "\n",
        "   return stopwords , idf_scores"
      ]
    },
    {
      "cell_type": "code",
      "execution_count": null,
      "metadata": {
        "id": "jBydEo_gS-0p"
      },
      "outputs": [],
      "source": [
        "# Getting the stopwords list and idf scores from the documents list\n",
        "corpus_based_stopwords , idf_scores = idf_stopwords(documents)"
      ]
    },
    {
      "cell_type": "code",
      "execution_count": null,
      "metadata": {
        "colab": {
          "base_uri": "https://localhost:8080/",
          "height": 472
        },
        "id": "dcbT-z7vK9sJ",
        "outputId": "47efccf9-37ed-4be4-d62c-d9739d4c7631"
      },
      "outputs": [
        {
          "data": {
            "image/png": "[encoded data removed]",
            "text/plain": [
              "<Figure size 640x480 with 1 Axes>"
            ]
          },
          "metadata": {},
          "output_type": "display_data"
        }
      ],
      "source": [
        "# Plotting the distribution of IDF scores\n",
        "plt.hist(idf_scores, bins=100)\n",
        "plt.xlabel(\"IDF Score\")\n",
        "plt.ylabel(\"Frequency\")\n",
        "plt.title(\"Distribution of IDF Scores\")\n",
        "plt.show()\n"
      ]
    },
    {
      "cell_type": "code",
      "execution_count": 7,
      "metadata": {
        "colab": {
          "base_uri": "https://localhost:8080/"
        },
        "id": "oVgn6M5FGvqS",
        "outputId": "a176b854-e191-4e21-b316-743b6f691c2c"
      },
      "outputs": [
        {
          "name": "stdout",
          "output_type": "stream",
          "text": [
            "Total No. of stopwords created are 364\n"
          ]
        }
      ],
      "source": [
        "print(\"Total No. of stopwords created are\",len(corpus_based_stopwords))"
      ]
    },
    {
      "cell_type": "code",
      "execution_count": 8,
      "metadata": {
        "colab": {
          "base_uri": "https://localhost:8080/"
        },
        "id": "H4skJq1LG1RR",
        "outputId": "08d89d15-9d80-4d6c-ff80-38730cb8012e"
      },
      "outputs": [
        {
          "name": "stdout",
          "output_type": "stream",
          "text": [
            "['10', 'about', 'above', 'account', 'accuracy', 'aerodynamic', 'agreement', 'air', 'aircraft', 'all', 'along', 'also', 'an', 'analysis', 'analytical', 'and', 'angle', 'angles', 'any', 'applicable', 'application', 'applied', 'approximate', 'approximately', 'approximation', 'arbitrary', 'are', 'as', 'associated', 'assumed', 'at', 'attack', 'available', 'axial', 'based', 'basis', 'be', 'been', 'behind', 'being', 'bending', 'between', 'blunt', 'bodies', 'body', 'both', 'boundary', 'buckling', 'but', 'by', 'calculated', 'calculation', 'calculations', 'can', 'case', 'cases', 'certain', 'characteristics', 'circular', 'coefficient', 'coefficients', 'compared', 'comparison', 'compressible', 'condition', 'conditions', 'cone', 'considered', 'constant', 'corresponding', 'critical', 'cross', 'cylinder', 'cylinders', 'cylindrical', 'data', 'density', 'derived', 'described', 'design', 'determine', 'determined', 'developed', 'development', 'different', 'differential', 'dimensional', 'direction', 'discussed', 'distance', 'distribution', 'distributions', 'drag', 'due', 'dynamic', 'each', 'edge', 'edges', 'effect', 'effects', 'either', 'elastic', 'energy', 'equation', 'equations', 'equilibrium', 'exact', 'example', 'experimental', 'experiments', 'external', 'field', 'finite', 'first', 'flat', 'flight', 'flow', 'flows', 'fluid', 'for', 'force', 'forces', 'form', 'found', 'free', 'friction', 'from', 'function', 'functions', 'further', 'gas', 'general', 'give', 'given', 'gives', 'good', 'gradient', 'greater', 'has', 'have', 'having', 'heat', 'heating', 'high', 'higher', 'however', 'hypersonic', 'if', 'important', 'in', 'included', 'including', 'incompressible', 'increase', 'increasing', 'indicate', 'indicated', 'induced', 'infinite', 'influence', 'initial', 'integral', 'interaction', 'into', 'investigated', 'investigation', 'inviscid', 'is', 'it', 'its', 'jet', 'known', 'laminar', 'large', 'layer', 'layers', 'leading', 'length', 'less', 'lift', 'linear', 'load', 'loading', 'local', 'low', 'lower', 'mach', 'made', 'mass', 'maximum', 'may', 'means', 'measured', 'measurements', 'method', 'methods', 'model', 'modified', 'moment', 'more', 'most', 'motion', 'much', 'near', 'new', 'no', 'normal', 'nose', 'not', 'note', 'nozzle', 'number', 'numbers', 'numerical', 'obtained', 'of', 'on', 'one', 'only', 'or', 'order', 'other', 'out', 'over', 'paper', 'parameter', 'parameters', 'part', 'particular', 'past', 'per', 'plane', 'plate', 'plates', 'point', 'possible', 'power', 'practical', 'predicted', 'presence', 'present', 'presented', 'pressure', 'pressures', 'problem', 'problems', 'procedure', 'profiles', 'properties', 'range', 'rate', 'rates', 'ratio', 'ratios', 'reduced', 'region', 'report', 'required', 'result', 'results', 'revolution', 'reynolds', 'same', 'second', 'section', 'separation', 'series', 'several', 'shape', 'shapes', 'shear', 'shells', 'shock', 'show', 'shown', 'similar', 'simple', 'skin', 'slender', 'small', 'so', 'solution', 'solutions', 'some', 'special', 'speed', 'speeds', 'stability', 'stagnation', 'static', 'steady', 'stream', 'stress', 'stresses', 'study', 'subsonic', 'such', 'supersonic', 'surface', 'surfaces', 'system', 'temperature', 'temperatures', 'terms', 'test', 'tests', 'than', 'that', 'the', 'their', 'then', 'theoretical', 'theory', 'there', 'thermal', 'these', 'thickness', 'thin', 'this', 'those', 'three', 'through', 'thus', 'time', 'to', 'total', 'transfer', 'transition', 'tunnel', 'turbulent', 'two', 'type', 'under', 'uniform', 'up', 'upon', 'use', 'used', 'using', 'value', 'values', 'variation', 'various', 'velocity', 'very', 'viscous', 'wall', 'was', 'wave', 'waves', 'well', 'were', 'when', 'where', 'which', 'will', 'wind', 'wing', 'wings', 'with', 'within', 'without', 'work', 'zero']\n"
          ]
        }
      ],
      "source": [
        "# Stopwords from corpus\n",
        "print(corpus_based_stopwords)"
      ]
    },
    {
      "cell_type": "code",
      "execution_count": 9,
      "metadata": {},
      "outputs": [
        {
          "name": "stdout",
          "output_type": "stream",
          "text": [
            "{\"haven't\", 'during', 'is', 'him', \"i'm\", 'their', 'didn', 'himself', 'myself', 'them', \"shouldn't\", 'up', \"wasn't\", 'my', 'i', 'mustn', 'between', \"aren't\", 'just', 'each', 've', 'or', 'there', 'nor', 'yourself', 'few', 'than', \"doesn't\", 'o', 'over', 'an', 'ours', 'doing', 'can', 'where', 'a', 'above', 'some', \"mustn't\", \"won't\", \"we'd\", \"that'll\", 'does', 'your', 're', 'these', 'again', 'more', 'be', 'am', 'd', 'mightn', 'herself', 'how', 'has', 'out', 'while', 'this', 'y', 'so', 't', \"she'd\", 'its', 'once', 'needn', 'on', 'shouldn', 'who', 'until', 'hadn', \"it'd\", 'are', 'against', 'to', 'here', \"she'll\", 'wouldn', 'about', 'we', 'own', 'you', \"hasn't\", 'for', 'was', 'below', \"couldn't\", 'any', 'at', 'she', 'then', \"shan't\", \"he'd\", \"he's\", 'themselves', 'if', 'his', \"didn't\", 'such', 'yours', \"needn't\", 'did', 'because', \"they're\", 'me', 'into', 'have', 'when', 'ourselves', 'with', 'weren', 'further', \"isn't\", 'isn', 'will', 'aren', 'm', 'too', \"you've\", 'through', 'other', \"she's\", 'down', 'but', 'after', 'he', \"it'll\", 'do', 'same', 's', \"i'll\", 'll', 'before', \"should've\", \"you'll\", \"you'd\", 'won', 'most', 'they', 'were', 'of', 'which', 'it', 'that', 'ain', \"hadn't\", 'couldn', 'our', 'itself', 'no', \"they've\", 'don', \"we'll\", 'both', 'and', 'haven', 'under', \"they'll\", 'having', 'been', \"mightn't\", 'only', 'wasn', \"we're\", 'what', 'ma', \"you're\", 'why', 'by', \"wouldn't\", 'as', 'not', 'now', 'being', 'hers', \"i've\", 'hasn', 'off', \"weren't\", 'very', \"we've\", 'her', \"i'd\", \"it's\", 'theirs', \"they'd\", 'whom', 'shan', 'from', 'had', 'all', 'the', 'those', 'yourselves', 'doesn', \"don't\", \"he'll\", 'should', 'in'}\n"
          ]
        }
      ],
      "source": [
        "# Stopwords from NLTK\n",
        "print(set(stopwords.words(\"english\")))"
      ]
    },
    {
      "cell_type": "code",
      "execution_count": 10,
      "metadata": {},
      "outputs": [
        {
          "name": "stdout",
          "output_type": "stream",
          "text": [
            "Original Document: vibration isolation of aircraft power plants . vibration in aircraft structure can almost always be traced to vibratory forces originating from the power plant .  these forces are transmitted to the aircraft in two ways ..  (1) by the action of air forces upon the surfaces of the aircraft in, or adjacent to, the slip stream of the propeller, and (2) by direct transmission of unbalanced forces from the power plant through the engine mounting .  the latter has always caused the preponderance of disturbance . vibratory stresses induced in the engine mounting structure occasionally produce fatigue failures in the associated parts, and always shorten the useful life of the entire aircraft structure .  more important, however, are the psychological and physiological effects of continuous vibration and its attendant noise on the passengers and crew .  this may very likely be the major source of the rapid fatigue which is so intimately associated with flying .  the importance and desirability of drastically reducing vibration can hardly be questioned .   this paper is limited to a consideration of the directly transmitted forces and, further, considers the power plants as rigid bodies attached by flexible means to the aircraft which is also considered as a rigid body of relatively large mass .  it is also limited to the case of engines and engine supporting structures having axial symmetry (radial engines), although the methods employed could easily be extended to other cases .\n"
          ]
        }
      ],
      "source": [
        "# Comparing on document No. 100\n",
        "doc = documents[99]\n",
        "print(\"Original Document:\", doc)\n",
        "# Sentence Segmentation\n",
        "sentences = sentenceSegmenter.punkt(doc)\n",
        "# Tokenization\n",
        "tokens = tokenizer.pennTreeBank(sentences)\n",
        "# Stopword Removal using standard list\n",
        "Standard_cleaning = stopwordRemover.fromList(tokens)"
      ]
    },
    {
      "cell_type": "code",
      "execution_count": 11,
      "metadata": {},
      "outputs": [],
      "source": [
        "# Stopword Removal using custom stopwords list\n",
        "def stopwords_sieve(tokens , stopwords_list):\n",
        "\t\t\treturn [token for token in tokens if token.lower() not in stopwords_list]\n",
        "\t\t\n",
        "Custom_cleaning = [stopwords_sieve(token , corpus_based_stopwords) for token in tokens]"
      ]
    },
    {
      "cell_type": "code",
      "execution_count": null,
      "metadata": {},
      "outputs": [
        {
          "name": "stdout",
          "output_type": "stream",
          "text": [
            "Using Standard Stopwords: [['vibration', 'isolation', 'aircraft', 'power', 'plants', '.'], ['vibration', 'aircraft', 'structure', 'almost', 'always', 'traced', 'vibratory', 'forces', 'originating', 'power', 'plant', '.'], ['forces', 'transmitted', 'aircraft', 'two', 'ways', '..', '(', '1', ')', 'action', 'air', 'forces', 'upon', 'surfaces', 'aircraft', ',', 'adjacent', ',', 'slip', 'stream', 'propeller', ',', '(', '2', ')', 'direct', 'transmission', 'unbalanced', 'forces', 'power', 'plant', 'engine', 'mounting', '.'], ['latter', 'always', 'caused', 'preponderance', 'disturbance', '.'], ['vibratory', 'stresses', 'induced', 'engine', 'mounting', 'structure', 'occasionally', 'produce', 'fatigue', 'failures', 'associated', 'parts', ',', 'always', 'shorten', 'useful', 'life', 'entire', 'aircraft', 'structure', '.'], ['important', ',', 'however', ',', 'psychological', 'physiological', 'effects', 'continuous', 'vibration', 'attendant', 'noise', 'passengers', 'crew', '.'], ['may', 'likely', 'major', 'source', 'rapid', 'fatigue', 'intimately', 'associated', 'flying', '.'], ['importance', 'desirability', 'drastically', 'reducing', 'vibration', 'hardly', 'questioned', '.'], ['paper', 'limited', 'consideration', 'directly', 'transmitted', 'forces', ',', ',', 'considers', 'power', 'plants', 'rigid', 'bodies', 'attached', 'flexible', 'means', 'aircraft', 'also', 'considered', 'rigid', 'body', 'relatively', 'large', 'mass', '.'], ['also', 'limited', 'case', 'engines', 'engine', 'supporting', 'structures', 'axial', 'symmetry', '(', 'radial', 'engines', ')', ',', 'although', 'methods', 'employed', 'could', 'easily', 'extended', 'cases', '.']]\n",
            "Using corpus based Stopwords: [['vibration', 'isolation', 'plants', '.'], ['vibration', 'structure', 'almost', 'always', 'traced', 'vibratory', 'originating', 'plant', '.'], ['transmitted', 'ways', '..', '(', '1', ')', 'action', ',', 'adjacent', ',', 'slip', 'propeller', ',', '(', '2', ')', 'direct', 'transmission', 'unbalanced', 'plant', 'engine', 'mounting', '.'], ['latter', 'always', 'caused', 'preponderance', 'disturbance', '.'], ['vibratory', 'engine', 'mounting', 'structure', 'occasionally', 'produce', 'fatigue', 'failures', 'parts', ',', 'always', 'shorten', 'useful', 'life', 'entire', 'structure', '.'], [',', ',', 'psychological', 'physiological', 'continuous', 'vibration', 'attendant', 'noise', 'passengers', 'crew', '.'], ['likely', 'major', 'source', 'rapid', 'fatigue', 'intimately', 'flying', '.'], ['importance', 'desirability', 'drastically', 'reducing', 'vibration', 'hardly', 'questioned', '.'], ['limited', 'a', 'consideration', 'directly', 'transmitted', ',', ',', 'considers', 'plants', 'rigid', 'attached', 'flexible', 'a', 'rigid', 'relatively', '.'], ['limited', 'engines', 'engine', 'supporting', 'structures', 'symmetry', '(', 'radial', 'engines', ')', ',', 'although', 'employed', 'could', 'easily', 'extended', '.']]\n"
          ]
        }
      ],
      "source": [
        "# We can see words like aircraft, structures , power are not present after using custom stopwords list.\n",
        "print(\"Using Standard Stopwords:\", (Standard_cleaning))\n",
        "print(\"Using corpus based Stopwords:\", (Custom_cleaning))"
      ]
    }
  ],
  "metadata": {
    "colab": {
      "provenance": []
    },
    "kernelspec": {
      "display_name": "Python 3",
      "name": "python3"
    },
    "language_info": {
      "codemirror_mode": {
        "name": "ipython",
        "version": 3
      },
      "file_extension": ".py",
      "mimetype": "text/x-python",
      "name": "python",
      "nbconvert_exporter": "python",
      "pygments_lexer": "ipython3",
      "version": "3.12.1"
    }
  },
  "nbformat": 4,
  "nbformat_minor": 0
}
