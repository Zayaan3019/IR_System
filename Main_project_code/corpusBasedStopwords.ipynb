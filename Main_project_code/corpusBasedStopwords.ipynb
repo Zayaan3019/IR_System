{
  "cells": [
    {
      "cell_type": "code",
      "execution_count": null,
      "metadata": {
        "id": "czcMGPNdERQK"
      },
      "outputs": [
        {
          "name": "stderr",
          "output_type": "stream",
          "text": [
            "[nltk_data] Downloading package averaged_perceptron_tagger_eng to\n",
            "[nltk_data]     C:\\Users\\HP\\AppData\\Roaming\\nltk_data...\n",
            "[nltk_data]   Package averaged_perceptron_tagger_eng is already up-to-\n",
            "[nltk_data]       date!\n",
            "[nltk_data] Downloading package wordnet to\n",
            "[nltk_data]     C:\\Users\\HP\\AppData\\Roaming\\nltk_data...\n",
            "[nltk_data]   Package wordnet is already up-to-date!\n",
            "[nltk_data] Downloading package stopwords to\n",
            "[nltk_data]     C:\\Users\\HP\\AppData\\Roaming\\nltk_data...\n",
            "[nltk_data]   Package stopwords is already up-to-date!\n",
            "[nltk_data] Downloading package punkt to\n",
            "[nltk_data]     C:\\Users\\HP\\AppData\\Roaming\\nltk_data...\n",
            "[nltk_data]   Package punkt is already up-to-date!\n"
          ]
        }
      ],
      "source": [
        "from util import *"
      ]
    },
    {
      "cell_type": "code",
      "execution_count": 3,
      "metadata": {
        "colab": {
          "base_uri": "https://localhost:8080/"
        },
        "id": "yWwcTabjEVWa",
        "outputId": "a9dde04a-b9b4-4751-a2a1-d12253566e1a"
      },
      "outputs": [
        {
          "name": "stdout",
          "output_type": "stream",
          "text": [
            "Total No. of documents in this list are 1400\n"
          ]
        }
      ],
      "source": [
        "# Loading all the documents in the cranfield dataset in the list\n",
        "with open(r\"..\\cranfield\\cran_docs.json\", \"r\", encoding=\"utf-8\") as file:\n",
        "    data = json.load(file)\n",
        "# documents is the list of all the documents in the cranfield dataset\n",
        "documents = [item[\"body\"] for item in data]\n",
        "print(\"Total No. of documents in this list are\",len(documents))"
      ]
    },
    {
      "cell_type": "code",
      "execution_count": 4,
      "metadata": {
        "id": "XgQwLaCHLA98"
      },
      "outputs": [],
      "source": [
        "def idf_stopwords(documents, percentile=5):\n",
        "   \"\"\"\n",
        "   Creating the list of stopwords from cranfield corpus of documents\n",
        "   using the percentile method.\n",
        "   Observed that most words have the idf_score of 7\n",
        "   Making them rarer words and having too low threshold for percentile\n",
        "   ----------\n",
        "   Arg1: Documents List\n",
        "   Arg2: Threshold percentile\n",
        "   Returns: Stopwords list\n",
        "    \"\"\"\n",
        "   vectorizer = TfidfVectorizer(smooth_idf=True)\n",
        "   matrix = vectorizer.fit_transform(documents)\n",
        "   features = vectorizer.get_feature_names_out() # Vocabulary words\n",
        "   idf_scores = vectorizer.idf_                  # IDF scores\n",
        "\n",
        "  # Computing the 5th percentile threshold\n",
        "   threshold = np.percentile(idf_scores, percentile)\n",
        "\n",
        "  # Selecting stopwords with IDF in the 0 to 5 percentile range\n",
        "   stopwords = [word for word, idf in zip(features, idf_scores) if idf < threshold]\n",
        "\n",
        "   return stopwords , idf_scores"
      ]
    },
    {
      "cell_type": "code",
      "execution_count": 5,
      "metadata": {
        "id": "jBydEo_gS-0p"
      },
      "outputs": [],
      "source": [
        "# Getting the stopwords list and idf scores from the documents list\n",
        "corpus_based_stopwords , idf_scores = idf_stopwords(documents)"
      ]
    },
    {
      "cell_type": "code",
      "execution_count": 6,
      "metadata": {
        "colab": {
          "base_uri": "https://localhost:8080/",
          "height": 472
        },
        "id": "dcbT-z7vK9sJ",
        "outputId": "47efccf9-37ed-4be4-d62c-d9739d4c7631"
      },
      "outputs": [
        {
          "data": {
            "image/png": "[encoded data removed]",
            "text/plain": [
              "<Figure size 640x480 with 1 Axes>"
            ]
          },
          "metadata": {},
          "output_type": "display_data"
        }
      ],
      "source": [
        "# Plotting the distribution of IDF scores\n",
        "plt.hist(idf_scores, bins=100)\n",
        "plt.xlabel(\"IDF Score\")\n",
        "plt.ylabel(\"Frequency\")\n",
        "plt.title(\"Distribution of IDF Scores\")\n",
        "plt.show()\n"
      ]
    },
    {
      "cell_type": "code",
      "execution_count": 7,
      "metadata": {
        "colab": {
          "base_uri": "https://localhost:8080/"
        },
        "id": "oVgn6M5FGvqS",
        "outputId": "a176b854-e191-4e21-b316-743b6f691c2c"
      },
      "outputs": [
        {
          "name": "stdout",
          "output_type": "stream",
          "text": [
            "Total No. of stopwords created are 364\n"
          ]
        }
      ],
      "source": [
        "print(\"Total No. of stopwords created are\",len(corpus_based_stopwords))"
      ]
    },
    {
      "cell_type": "code",
      "execution_count": 8,
      "metadata": {
        "colab": {
          "base_uri": "https://localhost:8080/"
        },
        "id": "H4skJq1LG1RR",
        "outputId": "08d89d15-9d80-4d6c-ff80-38730cb8012e"
      },
      "outputs": [
        {
          "name": "stdout",
          "output_type": "stream",
          "text": [
            "['10', 'about', 'above', 'account', 'accuracy', 'aerodynamic', 'agreement', 'air', 'aircraft', 'all', 'along', 'also', 'an', 'analysis', 'analytical', 'and', 'angle', 'angles', 'any', 'applicable', 'application', 'applied', 'approximate', 'approximately', 'approximation', 'arbitrary', 'are', 'as', 'associated', 'assumed', 'at', 'attack', 'available', 'axial', 'based', 'basis', 'be', 'been', 'behind', 'being', 'bending', 'between', 'blunt', 'bodies', 'body', 'both', 'boundary', 'buckling', 'but', 'by', 'calculated', 'calculation', 'calculations', 'can', 'case', 'cases', 'certain', 'characteristics', 'circular', 'coefficient', 'coefficients', 'compared', 'comparison', 'compressible', 'condition', 'conditions', 'cone', 'considered', 'constant', 'corresponding', 'critical', 'cross', 'cylinder', 'cylinders', 'cylindrical', 'data', 'density', 'derived', 'described', 'design', 'determine', 'determined', 'developed', 'development', 'different', 'differential', 'dimensional', 'direction', 'discussed', 'distance', 'distribution', 'distributions', 'drag', 'due', 'dynamic', 'each', 'edge', 'edges', 'effect', 'effects', 'either', 'elastic', 'energy', 'equation', 'equations', 'equilibrium', 'exact', 'example', 'experimental', 'experiments', 'external', 'field', 'finite', 'first', 'flat', 'flight', 'flow', 'flows', 'fluid', 'for', 'force', 'forces', 'form', 'found', 'free', 'friction', 'from', 'function', 'functions', 'further', 'gas', 'general', 'give', 'given', 'gives', 'good', 'gradient', 'greater', 'has', 'have', 'having', 'heat', 'heating', 'high', 'higher', 'however', 'hypersonic', 'if', 'important', 'in', 'included', 'including', 'incompressible', 'increase', 'increasing', 'indicate', 'indicated', 'induced', 'infinite', 'influence', 'initial', 'integral', 'interaction', 'into', 'investigated', 'investigation', 'inviscid', 'is', 'it', 'its', 'jet', 'known', 'laminar', 'large', 'layer', 'layers', 'leading', 'length', 'less', 'lift', 'linear', 'load', 'loading', 'local', 'low', 'lower', 'mach', 'made', 'mass', 'maximum', 'may', 'means', 'measured', 'measurements', 'method', 'methods', 'model', 'modified', 'moment', 'more', 'most', 'motion', 'much', 'near', 'new', 'no', 'normal', 'nose', 'not', 'note', 'nozzle', 'number', 'numbers', 'numerical', 'obtained', 'of', 'on', 'one', 'only', 'or', 'order', 'other', 'out', 'over', 'paper', 'parameter', 'parameters', 'part', 'particular', 'past', 'per', 'plane', 'plate', 'plates', 'point', 'possible', 'power', 'practical', 'predicted', 'presence', 'present', 'presented', 'pressure', 'pressures', 'problem', 'problems', 'procedure', 'profiles', 'properties', 'range', 'rate', 'rates', 'ratio', 'ratios', 'reduced', 'region', 'report', 'required', 'result', 'results', 'revolution', 'reynolds', 'same', 'second', 'section', 'separation', 'series', 'several', 'shape', 'shapes', 'shear', 'shells', 'shock', 'show', 'shown', 'similar', 'simple', 'skin', 'slender', 'small', 'so', 'solution', 'solutions', 'some', 'special', 'speed', 'speeds', 'stability', 'stagnation', 'static', 'steady', 'stream', 'stress', 'stresses', 'study', 'subsonic', 'such', 'supersonic', 'surface', 'surfaces', 'system', 'temperature', 'temperatures', 'terms', 'test', 'tests', 'than', 'that', 'the', 'their', 'then', 'theoretical', 'theory', 'there', 'thermal', 'these', 'thickness', 'thin', 'this', 'those', 'three', 'through', 'thus', 'time', 'to', 'total', 'transfer', 'transition', 'tunnel', 'turbulent', 'two', 'type', 'under', 'uniform', 'up', 'upon', 'use', 'used', 'using', 'value', 'values', 'variation', 'various', 'velocity', 'very', 'viscous', 'wall', 'was', 'wave', 'waves', 'well', 'were', 'when', 'where', 'which', 'will', 'wind', 'wing', 'wings', 'with', 'within', 'without', 'work', 'zero']\n"
          ]
        }
      ],
      "source": [
        "# Stopwords from corpus\n",
        "print(corpus_based_stopwords)"
      ]
    },
    {
      "cell_type": "code",
      "execution_count": null,
      "metadata": {},
      "outputs": [],
      "source": [
        "with open(r'\\corpus_based_stopwords.json', 'w') as f:\n",
        "    json.dump(corpus_based_stopwords, f)\n"
      ]
    }
  ],
  "metadata": {
    "colab": {
      "provenance": []
    },
    "kernelspec": {
      "display_name": "base",
      "language": "python",
      "name": "python3"
    },
    "language_info": {
      "codemirror_mode": {
        "name": "ipython",
        "version": 3
      },
      "file_extension": ".py",
      "mimetype": "text/x-python",
      "name": "python",
      "nbconvert_exporter": "python",
      "pygments_lexer": "ipython3",
      "version": "3.11.7"
    }
  },
  "nbformat": 4,
  "nbformat_minor": 0
}
