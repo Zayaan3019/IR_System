{
 "cells": [
  {
   "cell_type": "code",
   "execution_count": 1,
   "id": "d0bf4346",
   "metadata": {},
   "outputs": [],
   "source": [
    "from util import *\n",
    "from scipy.stats import ttest_rel"
   ]
  },
  {
   "cell_type": "code",
   "execution_count": 2,
   "id": "2b1c2289",
   "metadata": {},
   "outputs": [],
   "source": [
    "lsi_df = pd.read_csv(\"../TestScores/General/recallLSI.csv\")\n",
    "vsm_df = pd.read_csv(\"../TestScores/General/recallVSM.csv\")\n",
    "lsi_fscores = pd.read_csv(\"../TestScores/General/fscoreLSI.csv\")\n",
    "vsm_fscores = pd.read_csv(\"../TestScores/General/fscoreVSM.csv\")\n",
    "vsm_ap = pd.read_csv(\"../TestScores/General/APVSM.csv\")\n",
    "lsi_ap = pd.read_csv(\"../TestScores/General/APLSI.csv\")\n",
    "lsi_precision = pd.read_csv(\"../TestScores/General/precisionLSI.csv\")\n",
    "vsm_precision = pd.read_csv(\"../TestScores/General/precisionVSM.csv\")\n",
    "vsm_ndcg = pd.read_csv(\"../TestScores/General/nDCGVSM.csv\")\n",
    "lsi_ndcg = pd.read_csv(\"../TestScores/General/nDCGLSI.csv\")\n",
    "cb_recall = pd.read_csv(\"../TestScores/Stopwords/RecallCB.csv\")\n",
    "cb_precision = pd.read_csv(\"../TestScores/Stopwords/precisionCB.csv\")\n",
    "cb_fscore = pd.read_csv(\"../TestScores/Stopwords/fscoreCB.csv\")\n",
    "cb_ap = pd.read_csv(\"../TestScores/Stopwords/APCB.csv\")\n",
    "cb_ndcg = pd.read_csv(\"../TestScores/Stopwords/nDCGCB.csv\")\n",
    "stem_recall = pd.read_csv(\"../TestScores/Reducer/Recallstem.csv\")\n",
    "stem_precision = pd.read_csv(\"../TestScores/Reducer/precisionstem.csv\")\n",
    "stem_fscore = pd.read_csv(\"../TestScores/Reducer/fscorestem.csv\")\n",
    "stem_ap = pd.read_csv(\"../TestScores/Reducer/APstem.csv\")\n",
    "stem_ndcg = pd.read_csv(\"../TestScores/Reducer/nDCGstem.csv\")\n",
    "\n"
   ]
  },
  {
   "cell_type": "code",
   "execution_count": 3,
   "id": "4ebfcf9d",
   "metadata": {},
   "outputs": [],
   "source": [
    "lsi_df = lsi_df.sort_values(by=\"query_id\")\n",
    "vsm_df = vsm_df.sort_values(by=\"query_id\")\n",
    "lsi_fscores = lsi_fscores.sort_values(by=\"query_id\")\n",
    "vsm_fscores = vsm_fscores.sort_values(by=\"query_id\")\n",
    "vsm_ap = vsm_ap.sort_values(by=\"query_id\")\n",
    "lsi_ap = lsi_ap.sort_values(by=\"query_id\")\n",
    "lsi_precision = lsi_precision.sort_values(by=\"query_id\")\n",
    "vsm_precision = vsm_precision.sort_values(by=\"query_id\")\n",
    "vsm_ndcg = vsm_ndcg.sort_values(by=\"query_id\")\n",
    "lsi_ndcg = lsi_ndcg.sort_values(by=\"query_id\")\n",
    "cb_recall = cb_recall.sort_values(by=\"query_id\")\n",
    "cb_precision = cb_precision.sort_values(by=\"query_id\")\n",
    "cb_fscore = cb_fscore.sort_values(by=\"query_id\")\n",
    "cb_ap = cb_ap.sort_values(by=\"query_id\")\n",
    "cb_ndcg = cb_ndcg.sort_values(by=\"query_id\")\n",
    "stem_recall = stem_recall.sort_values(by=\"query_id\")\n",
    "stem_precision = stem_precision.sort_values(by=\"query_id\")\n",
    "stem_fscore = stem_fscore.sort_values(by=\"query_id\")\n",
    "stem_ap = stem_ap.sort_values(by=\"query_id\")\n",
    "stem_ndcg = stem_ndcg.sort_values(by=\"query_id\")"
   ]
  },
  {
   "cell_type": "code",
   "execution_count": 4,
   "id": "618d4753",
   "metadata": {},
   "outputs": [],
   "source": [
    "# Extract metrics as lists\n",
    "recall_lsi = lsi_df[\"recall\"].tolist()\n",
    "recall_vsm = vsm_df[\"recall\"].tolist()\n",
    "\n",
    "fscore_lsi = lsi_fscores[\"fscore\"].tolist()\n",
    "fscore_vsm = vsm_fscores[\"fscore\"].tolist()\n",
    "\n",
    "ap_lsi = lsi_ap[\"AP\"].tolist()\n",
    "ap_vsm = vsm_ap[\"AP\"].tolist()\n",
    "\n",
    "precision_lsi = lsi_precision[\"precision\"].tolist()\n",
    "precision_vsm = vsm_precision[\"precision\"].tolist()\n",
    "\n",
    "ndcg_lsi = lsi_ndcg[\"nDCG\"].tolist()\n",
    "ndcg_vsm = vsm_ndcg[\"nDCG\"].tolist()\n",
    "\n",
    "recall_cb = cb_recall[\"recall\"].tolist()\n",
    "precision_cb = cb_precision[\"precision\"].tolist()\n",
    "fscore_cb = cb_fscore[\"fscore\"].tolist()\n",
    "ap_cb = cb_ap[\"AP\"].tolist()\n",
    "ndcg_cb = cb_ndcg[\"nDCG\"].tolist()\n",
    "\n",
    "recall_stem = stem_recall[\"recall\"].tolist()\n",
    "precision_stem = stem_precision[\"precision\"].tolist()\n",
    "fscore_stem = stem_fscore[\"fscore\"].tolist()\n",
    "ap_stem = stem_ap[\"AP\"].tolist()\n",
    "ndcg_stem = stem_ndcg[\"nDCG\"].tolist()\n",
    "\n"
   ]
  },
  {
   "cell_type": "code",
   "execution_count": 5,
   "id": "1dd42aef",
   "metadata": {},
   "outputs": [],
   "source": [
    "def paired_T_test(lsi_scores, vsm_scores, metric_name=\"Metric\"):\n",
    "    \n",
    "    t_stat, p_value = ttest_rel(lsi_scores, vsm_scores)\n",
    "    print(f\"\\nPaired t-test for {metric_name} scores:\")\n",
    "    print(f\"t = {t_stat:.10f}, p = {p_value:.10f}\")\n",
    "    if p_value < 0.05:\n",
    "        print(f\"Statistically significant difference in {metric_name} (p < 0.05)\")\n",
    "    else:\n",
    "        print(f\"No significant difference in {metric_name} (p ≥ 0.05)\")\n"
   ]
  },
  {
   "cell_type": "markdown",
   "id": "45f307b9",
   "metadata": {},
   "source": [
    "## LSA vs VSM ##"
   ]
  },
  {
   "cell_type": "code",
   "execution_count": 6,
   "id": "6fd9b126",
   "metadata": {},
   "outputs": [
    {
     "name": "stdout",
     "output_type": "stream",
     "text": [
      "\n",
      "Paired t-test for Recall scores:\n",
      "t = 4.0514465917, p = 0.0000701958\n",
      "Statistically significant difference in Recall (p < 0.05)\n"
     ]
    }
   ],
   "source": [
    "paired_T_test(recall_lsi, recall_vsm, \"Recall\")"
   ]
  },
  {
   "cell_type": "code",
   "execution_count": 7,
   "id": "60be2292",
   "metadata": {},
   "outputs": [
    {
     "name": "stdout",
     "output_type": "stream",
     "text": [
      "\n",
      "Paired t-test for F0.5score scores:\n",
      "t = 5.2140594991, p = 0.0000004195\n",
      "Statistically significant difference in F0.5score (p < 0.05)\n"
     ]
    }
   ],
   "source": [
    "paired_T_test(fscore_lsi, fscore_vsm, \"F0.5score\")"
   ]
  },
  {
   "cell_type": "code",
   "execution_count": 8,
   "id": "175c3c07",
   "metadata": {},
   "outputs": [
    {
     "name": "stdout",
     "output_type": "stream",
     "text": [
      "\n",
      "Paired t-test for Average Precision scores:\n",
      "t = 2.5853743161, p = 0.0103611539\n",
      "Statistically significant difference in Average Precision (p < 0.05)\n"
     ]
    }
   ],
   "source": [
    "paired_T_test(ap_lsi, ap_vsm, \"Average Precision\")"
   ]
  },
  {
   "cell_type": "code",
   "execution_count": 9,
   "id": "d1d59099",
   "metadata": {},
   "outputs": [
    {
     "name": "stdout",
     "output_type": "stream",
     "text": [
      "\n",
      "Paired t-test for Precision scores:\n",
      "t = 5.1957690419, p = 0.0000004580\n",
      "Statistically significant difference in Precision (p < 0.05)\n"
     ]
    }
   ],
   "source": [
    "paired_T_test(precision_lsi,precision_vsm , \"Precision\")"
   ]
  },
  {
   "cell_type": "code",
   "execution_count": 10,
   "id": "309af463",
   "metadata": {},
   "outputs": [
    {
     "name": "stdout",
     "output_type": "stream",
     "text": [
      "\n",
      "Paired t-test for nDCG scores:\n",
      "t = 0.9374005608, p = 0.3495621406\n",
      "No significant difference in nDCG (p ≥ 0.05)\n"
     ]
    }
   ],
   "source": [
    "paired_T_test(ndcg_lsi, ndcg_vsm, \"nDCG\")"
   ]
  },
  {
   "cell_type": "markdown",
   "id": "26e6bab4",
   "metadata": {},
   "source": [
    "## For Stopwords ##"
   ]
  },
  {
   "cell_type": "code",
   "execution_count": 11,
   "id": "45679bcf",
   "metadata": {},
   "outputs": [
    {
     "name": "stdout",
     "output_type": "stream",
     "text": [
      "\n",
      "Paired t-test for Recall with NLTK Stopwords scores:\n",
      "t = 8.8009584208, p = 0.0000000000\n",
      "Statistically significant difference in Recall with NLTK Stopwords (p < 0.05)\n"
     ]
    }
   ],
   "source": [
    "paired_T_test(recall_lsi, recall_cb, \"Recall with NLTK Stopwords\")"
   ]
  },
  {
   "cell_type": "code",
   "execution_count": 12,
   "id": "24f395fa",
   "metadata": {},
   "outputs": [
    {
     "name": "stdout",
     "output_type": "stream",
     "text": [
      "\n",
      "Paired t-test for F-score scores:\n",
      "t = 8.9955248195, p = 0.0000000000\n",
      "Statistically significant difference in F-score (p < 0.05)\n"
     ]
    }
   ],
   "source": [
    "paired_T_test(fscore_lsi, fscore_cb, \"F-score\")"
   ]
  },
  {
   "cell_type": "code",
   "execution_count": 13,
   "id": "a386cebe",
   "metadata": {},
   "outputs": [
    {
     "name": "stdout",
     "output_type": "stream",
     "text": [
      "\n",
      "Paired t-test for Precision scores:\n",
      "t = 8.7657764253, p = 0.0000000000\n",
      "Statistically significant difference in Precision (p < 0.05)\n"
     ]
    }
   ],
   "source": [
    "paired_T_test(precision_lsi, precision_cb, \"Precision\")"
   ]
  },
  {
   "cell_type": "code",
   "execution_count": 14,
   "id": "5d1100d0",
   "metadata": {},
   "outputs": [
    {
     "name": "stdout",
     "output_type": "stream",
     "text": [
      "\n",
      "Paired t-test for Average Precision scores:\n",
      "t = 8.9318569149, p = 0.0000000000\n",
      "Statistically significant difference in Average Precision (p < 0.05)\n"
     ]
    }
   ],
   "source": [
    "paired_T_test(ap_lsi, ap_cb, \"Average Precision\")"
   ]
  },
  {
   "cell_type": "code",
   "execution_count": 15,
   "id": "0ea841ee",
   "metadata": {},
   "outputs": [
    {
     "name": "stdout",
     "output_type": "stream",
     "text": [
      "\n",
      "Paired t-test for nDCG scores:\n",
      "t = 9.0978005977, p = 0.0000000000\n",
      "Statistically significant difference in nDCG (p < 0.05)\n"
     ]
    }
   ],
   "source": [
    "paired_T_test(ndcg_lsi, ndcg_cb, \"nDCG\")"
   ]
  },
  {
   "cell_type": "markdown",
   "id": "13d93463",
   "metadata": {},
   "source": [
    "## POS Tagged Lemmatizer vs Stemmer ##"
   ]
  },
  {
   "cell_type": "code",
   "execution_count": 16,
   "id": "822d19a5",
   "metadata": {},
   "outputs": [
    {
     "name": "stdout",
     "output_type": "stream",
     "text": [
      "\n",
      "Paired t-test for POS tagged Recall vs stemmer scores:\n",
      "t = 0.9341838477, p = 0.3512149918\n",
      "No significant difference in POS tagged Recall vs stemmer (p ≥ 0.05)\n"
     ]
    }
   ],
   "source": [
    "paired_T_test(recall_lsi, recall_stem, \"POS tagged Recall vs stemmer\")"
   ]
  },
  {
   "cell_type": "code",
   "execution_count": 17,
   "id": "44c18599",
   "metadata": {},
   "outputs": [
    {
     "name": "stdout",
     "output_type": "stream",
     "text": [
      "\n",
      "Paired t-test for POS tagged precision vs stemmer scores:\n",
      "t = 1.4560183792, p = 0.1467876877\n",
      "No significant difference in POS tagged precision vs stemmer (p ≥ 0.05)\n"
     ]
    }
   ],
   "source": [
    "paired_T_test(precision_lsi, precision_stem, \"POS tagged precision vs stemmer\")"
   ]
  },
  {
   "cell_type": "code",
   "execution_count": 18,
   "id": "f62376e6",
   "metadata": {},
   "outputs": [
    {
     "name": "stdout",
     "output_type": "stream",
     "text": [
      "\n",
      "Paired t-test for POS tagged ap vs stemmer scores:\n",
      "t = -0.1289676957, p = 0.8974989332\n",
      "No significant difference in POS tagged ap vs stemmer (p ≥ 0.05)\n"
     ]
    }
   ],
   "source": [
    "paired_T_test(ap_lsi, ap_stem, \"POS tagged ap vs stemmer\")"
   ]
  },
  {
   "cell_type": "code",
   "execution_count": 19,
   "id": "521691dd",
   "metadata": {},
   "outputs": [
    {
     "name": "stdout",
     "output_type": "stream",
     "text": [
      "\n",
      "Paired t-test for POS tagged ndcg vs stemmer scores:\n",
      "t = 0.2591920792, p = 0.7957250808\n",
      "No significant difference in POS tagged ndcg vs stemmer (p ≥ 0.05)\n"
     ]
    }
   ],
   "source": [
    "paired_T_test(ndcg_lsi, ndcg_stem, \"POS tagged ndcg vs stemmer\")"
   ]
  },
  {
   "cell_type": "code",
   "execution_count": 20,
   "id": "1290cd6f",
   "metadata": {},
   "outputs": [
    {
     "name": "stdout",
     "output_type": "stream",
     "text": [
      "\n",
      "Paired t-test for POS tagged fscore vs stemmer scores:\n",
      "t = 1.4287633768, p = 0.1544652041\n",
      "No significant difference in POS tagged fscore vs stemmer (p ≥ 0.05)\n"
     ]
    }
   ],
   "source": [
    "paired_T_test(fscore_lsi, fscore_stem, \"POS tagged fscore vs stemmer\")"
   ]
  },
  {
   "cell_type": "markdown",
   "id": "13131d5b",
   "metadata": {},
   "source": [
    " LSA performed better for all metrics except nDCG since we didn't work explicitly to improve nDCG.  \n",
    " NLTK stopwords works better than our custom corpus based stopwords using IDF.  \n",
    " No significance difference found in POS tagged lemmatizer and stemmer.  "
   ]
  }
 ],
 "metadata": {
  "kernelspec": {
   "display_name": "base",
   "language": "python",
   "name": "python3"
  },
  "language_info": {
   "codemirror_mode": {
    "name": "ipython",
    "version": 3
   },
   "file_extension": ".py",
   "mimetype": "text/x-python",
   "name": "python",
   "nbconvert_exporter": "python",
   "pygments_lexer": "ipython3",
   "version": "3.11.7"
  }
 },
 "nbformat": 4,
 "nbformat_minor": 5
}
